{
 "cells": [
  {
   "cell_type": "markdown",
   "metadata": {},
   "source": [
    "# Sorting"
   ]
  },
  {
   "cell_type": "code",
   "execution_count": 3,
   "metadata": {},
   "outputs": [
    {
     "name": "stdout",
     "output_type": "stream",
     "text": [
      "1\n",
      "5\n"
     ]
    }
   ],
   "source": [
    "import sys\n",
    "n=int(input())\n",
    "arr=list(map(int,input().split()))\n",
    "arr=[25,4,8,44,88,11,42,16,80,55]\n",
    "\n",
    "n=10"
   ]
  },
  {
   "cell_type": "markdown",
   "metadata": {},
   "source": [
    "### Bubble Sort"
   ]
  },
  {
   "cell_type": "code",
   "execution_count": 22,
   "metadata": {},
   "outputs": [],
   "source": [
    "#bubble sort time complexity best case is O(n) worst case is O(n**2)\n",
    "def bubble_sort(array,limit):\n",
    "    for i in range(limit-1):\n",
    "        for j in range(0,limit-i-1):\n",
    "            if array[j+1]<array[j]:\n",
    "                array[j],array[j+1]=array[j+1],array[j]\n",
    "    return array"
   ]
  },
  {
   "cell_type": "code",
   "execution_count": 23,
   "metadata": {},
   "outputs": [
    {
     "name": "stdout",
     "output_type": "stream",
     "text": [
      "[4, 8, 11, 16, 25, 42, 44, 55, 80, 88]\n"
     ]
    }
   ],
   "source": [
    "print(bubble_sort(arr,n))"
   ]
  },
  {
   "cell_type": "markdown",
   "metadata": {},
   "source": [
    "### Selection Sort"
   ]
  },
  {
   "cell_type": "code",
   "execution_count": 36,
   "metadata": {},
   "outputs": [],
   "source": [
    "#time complexity is best O(n**2) worst is O(n**2)\n",
    "def selection_sort(array,limit):\n",
    "    for i in range(limit):\n",
    "        index=i\n",
    "        for j in range(i+1,limit):\n",
    "            if array[index]>array[j]:\n",
    "                index=j\n",
    "        array[i],array[index] = array[index],array[i]\n",
    "    return array"
   ]
  },
  {
   "cell_type": "code",
   "execution_count": 37,
   "metadata": {
    "scrolled": true
   },
   "outputs": [
    {
     "name": "stdout",
     "output_type": "stream",
     "text": [
      "[4, 8, 11, 16, 25, 42, 44, 55, 80, 88]\n"
     ]
    }
   ],
   "source": [
    "print(selection_sort(arr,n))"
   ]
  },
  {
   "cell_type": "markdown",
   "metadata": {},
   "source": [
    "### Insertion Sort"
   ]
  },
  {
   "cell_type": "code",
   "execution_count": 45,
   "metadata": {},
   "outputs": [],
   "source": [
    "#time complexity is best O(n) worst is O(n**2)\n",
    "def insertion_sort(array,limit):\n",
    "    for i in range(1,limit):\n",
    "        temp=array[i]\n",
    "        j=i-1\n",
    "        while j>=0 and temp <array[j]:\n",
    "            array[j+1]=array[j]\n",
    "            j-=1\n",
    "        array[j+1]=temp\n",
    "    return array"
   ]
  },
  {
   "cell_type": "code",
   "execution_count": 46,
   "metadata": {},
   "outputs": [
    {
     "name": "stdout",
     "output_type": "stream",
     "text": [
      "[4, 8, 11, 16, 25, 42, 44, 55, 80, 88]\n"
     ]
    }
   ],
   "source": [
    "print(insertion_sort(arr,n))"
   ]
  },
  {
   "cell_type": "markdown",
   "metadata": {},
   "source": [
    "### Merge Sort"
   ]
  },
  {
   "cell_type": "code",
   "execution_count": 51,
   "metadata": {},
   "outputs": [],
   "source": [
    "#time complexity O(nlogn) \n",
    "def mergeSort(array):\n",
    "    if len(array)>1:\n",
    "        middle=len(array)//2\n",
    "        L=array[:middle]\n",
    "        R=array[middle:]\n",
    "        mergeSort(L)\n",
    "        mergeSort(R)\n",
    "        \n",
    "        i=j=k=0\n",
    "        while(i<len(L) and j<len(R)):\n",
    "            if L[i]<R[j]:\n",
    "                array[k]=L[i]\n",
    "                i+=1\n",
    "            else:\n",
    "                array[k]=R[j]\n",
    "                j+=1\n",
    "            k+=1\n",
    "        array[k:]=L[i:]\n",
    "        array+=R[j:]\n",
    "    return array"
   ]
  },
  {
   "cell_type": "code",
   "execution_count": 54,
   "metadata": {},
   "outputs": [
    {
     "data": {
      "text/plain": [
       "[4, 8, 11, 16, 25, 42, 44, 55, 80, 88]"
      ]
     },
     "execution_count": 54,
     "metadata": {},
     "output_type": "execute_result"
    }
   ],
   "source": [
    "mergeSort(arr)"
   ]
  },
  {
   "cell_type": "markdown",
   "metadata": {},
   "source": [
    "### Quick Sort"
   ]
  },
  {
   "cell_type": "code",
   "execution_count": 26,
   "metadata": {},
   "outputs": [],
   "source": [
    "#time complexity is O(nlogn) and worst case O(n**2)\n",
    "\n",
    "def partition(array,lb,ub):\n",
    "    pivot=array[lb]\n",
    "    start=lb\n",
    "    end=ub\n",
    "    while(start<end):\n",
    "        while(array[start]<=pivot and start<ub):\n",
    "            start+=1\n",
    "        while(array[end]>pivot and end>lb):\n",
    "            end-=1\n",
    "        if(start<end):\n",
    "            array[start],array[end]=array[end],array[start]\n",
    "    array[lb],array[end]=array[end],array[lb]\n",
    "    return end\n",
    "\n",
    "def quicksort(array,lb,ub):\n",
    "    if(lb<ub):\n",
    "        loc=partition(array,lb,ub)\n",
    "        quicksort(array,lb,loc-1)\n",
    "        quicksort(array,loc+1,ub)\n",
    "    return array"
   ]
  },
  {
   "cell_type": "code",
   "execution_count": 27,
   "metadata": {
    "scrolled": true
   },
   "outputs": [
    {
     "data": {
      "text/plain": [
       "[0, 7, 7, 10, 11, 12, 15, 30, 47, 68, 80, 99]"
      ]
     },
     "execution_count": 27,
     "metadata": {},
     "output_type": "execute_result"
    }
   ],
   "source": [
    "quicksort([7,30,11,80,68,47,99,10,0,15,12,7],0,11)"
   ]
  }
 ],
 "metadata": {
  "kernelspec": {
   "display_name": "Python 3",
   "language": "python",
   "name": "python3"
  },
  "language_info": {
   "codemirror_mode": {
    "name": "ipython",
    "version": 3
   },
   "file_extension": ".py",
   "mimetype": "text/x-python",
   "name": "python",
   "nbconvert_exporter": "python",
   "pygments_lexer": "ipython3",
   "version": "3.6.10"
  }
 },
 "nbformat": 4,
 "nbformat_minor": 4
}
