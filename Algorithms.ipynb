{
 "cells": [
  {
   "cell_type": "code",
   "execution_count": 33,
   "metadata": {},
   "outputs": [
    {
     "name": "stdout",
     "output_type": "stream",
     "text": [
      "10\n",
      "25 4 8 44 88 11 42 16 80 55\n"
     ]
    }
   ],
   "source": [
    "n=int(input())\n",
    "arr=list(map(int,input().split()))"
   ]
  },
  {
   "cell_type": "code",
   "execution_count": 31,
   "metadata": {},
   "outputs": [],
   "source": [
    "arr=[25,4,8,44,88,11,42,16,80,55]"
   ]
  },
  {
   "cell_type": "code",
   "execution_count": 29,
   "metadata": {},
   "outputs": [],
   "source": [
    "n=10"
   ]
  },
  {
   "cell_type": "markdown",
   "metadata": {},
   "source": [
    "# Sorting"
   ]
  },
  {
   "cell_type": "markdown",
   "metadata": {},
   "source": [
    "### Bubble Sort"
   ]
  },
  {
   "cell_type": "code",
   "execution_count": 22,
   "metadata": {},
   "outputs": [],
   "source": [
    "#bubble sort time complexity best case is O(n) worst case is O(n**2)\n",
    "def bubble_sort(array,limit):\n",
    "    for i in range(limit-1):\n",
    "        for j in range(0,limit-i-1):\n",
    "            if array[j+1]<array[j]:\n",
    "                array[j],array[j+1]=array[j+1],array[j]\n",
    "    return array"
   ]
  },
  {
   "cell_type": "code",
   "execution_count": 23,
   "metadata": {},
   "outputs": [
    {
     "name": "stdout",
     "output_type": "stream",
     "text": [
      "[4, 8, 11, 16, 25, 42, 44, 55, 80, 88]\n"
     ]
    }
   ],
   "source": [
    "print(bubble_sort(arr,n))"
   ]
  },
  {
   "cell_type": "markdown",
   "metadata": {},
   "source": [
    "### Selection Sort"
   ]
  },
  {
   "cell_type": "code",
   "execution_count": 36,
   "metadata": {},
   "outputs": [],
   "source": [
    "#time complexity is best O(n**2) worst is O(n**2)\n",
    "def selection_sort(array,limit):\n",
    "    for i in range(limit):\n",
    "        index=i\n",
    "        for j in range(i+1,limit):\n",
    "            if array[index]>array[j]:\n",
    "                index=j\n",
    "        array[i],array[index] = array[index],array[i]\n",
    "    return array"
   ]
  },
  {
   "cell_type": "code",
   "execution_count": 37,
   "metadata": {},
   "outputs": [
    {
     "name": "stdout",
     "output_type": "stream",
     "text": [
      "[4, 8, 11, 16, 25, 42, 44, 55, 80, 88]\n"
     ]
    }
   ],
   "source": [
    "print(selection_sort(arr,n))"
   ]
  },
  {
   "cell_type": "markdown",
   "metadata": {},
   "source": [
    "### Insertion Sort"
   ]
  },
  {
   "cell_type": "code",
   "execution_count": 45,
   "metadata": {},
   "outputs": [],
   "source": [
    "#time complexity is best O(n) worst is O(n**2)\n",
    "def insertion_sort(array,limit):\n",
    "    for i in range(1,limit):\n",
    "        temp=array[i]\n",
    "        j=i-1\n",
    "        while j>=0 and temp <array[j]:\n",
    "            array[j+1]=array[j]\n",
    "            j-=1\n",
    "        array[j+1]=temp\n",
    "    return array"
   ]
  },
  {
   "cell_type": "code",
   "execution_count": 46,
   "metadata": {},
   "outputs": [
    {
     "name": "stdout",
     "output_type": "stream",
     "text": [
      "[4, 8, 11, 16, 25, 42, 44, 55, 80, 88]\n"
     ]
    }
   ],
   "source": [
    "print(insertion_sort(arr,n))"
   ]
  },
  {
   "cell_type": "markdown",
   "metadata": {},
   "source": [
    "### Merge Sort"
   ]
  },
  {
   "cell_type": "code",
   "execution_count": 51,
   "metadata": {},
   "outputs": [],
   "source": [
    "#time complexity O(nlogn) \n",
    "def mergeSort(array):\n",
    "    if len(array)>1:\n",
    "        middle=len(array)//2\n",
    "        L=array[:middle]\n",
    "        R=array[middle:]\n",
    "        mergeSort(L)\n",
    "        mergeSort(R)\n",
    "        \n",
    "        i=j=k=0\n",
    "        while(i<len(L) and j<len(R)):\n",
    "            if L[i]<R[j]:\n",
    "                array[k]=L[i]\n",
    "                i+=1\n",
    "            else:\n",
    "                array[k]=R[j]\n",
    "                j+=1\n",
    "            k+=1\n",
    "        array[k:]=L[i:]\n",
    "        array+=R[j:]\n",
    "    return array"
   ]
  },
  {
   "cell_type": "code",
   "execution_count": 54,
   "metadata": {},
   "outputs": [
    {
     "data": {
      "text/plain": [
       "[4, 8, 11, 16, 25, 42, 44, 55, 80, 88]"
      ]
     },
     "execution_count": 54,
     "metadata": {},
     "output_type": "execute_result"
    }
   ],
   "source": [
    "mergeSort(arr)"
   ]
  },
  {
   "cell_type": "markdown",
   "metadata": {},
   "source": [
    "### Quick Sort"
   ]
  },
  {
   "cell_type": "code",
   "execution_count": 26,
   "metadata": {},
   "outputs": [],
   "source": [
    "'''time complexity is O(nlogn) and worst case O(n**2)'''\n",
    "\n",
    "def partition(array,lb,ub):\n",
    "    pivot=array[lb]\n",
    "    start=lb\n",
    "    end=ub\n",
    "    while(start<end):\n",
    "        while(array[start]<=pivot and start<ub):\n",
    "            start+=1\n",
    "        while(array[end]>pivot and end>lb):\n",
    "            end-=1\n",
    "        if(start<end):\n",
    "            array[start],array[end]=array[end],array[start]\n",
    "    array[lb],array[end]=array[end],array[lb]\n",
    "    return end\n",
    "\n",
    "def quicksort(array,lb,ub):\n",
    "    if(lb<ub):\n",
    "        loc=partition(array,lb,ub)\n",
    "        quicksort(array,lb,loc-1)\n",
    "        quicksort(array,loc+1,ub)\n",
    "    return array"
   ]
  },
  {
   "cell_type": "code",
   "execution_count": 27,
   "metadata": {},
   "outputs": [
    {
     "data": {
      "text/plain": [
       "[0, 7, 7, 10, 11, 12, 15, 30, 47, 68, 80, 99]"
      ]
     },
     "execution_count": 27,
     "metadata": {},
     "output_type": "execute_result"
    }
   ],
   "source": [
    "quicksort([7,30,11,80,68,47,99,10,0,15,12,7],0,11)"
   ]
  },
  {
   "cell_type": "markdown",
   "metadata": {},
   "source": [
    "# Searching"
   ]
  },
  {
   "cell_type": "markdown",
   "metadata": {},
   "source": [
    "### Binary Search"
   ]
  },
  {
   "cell_type": "code",
   "execution_count": 18,
   "metadata": {},
   "outputs": [],
   "source": [
    "'''time complexity O(log2N)'''\n",
    "def binary_search(array,l,r,key):\n",
    "    if(r>=l):\n",
    "        middle=(l+r)//2\n",
    "        if(array[middle]==key):\n",
    "            return middle\n",
    "        elif(array[middle]<key):\n",
    "            return binary_search(array,middle+1,r,key)\n",
    "        else:\n",
    "            return binary_search(array,l,middle-1,key)\n",
    "    else:\n",
    "        return -1"
   ]
  },
  {
   "cell_type": "code",
   "execution_count": 30,
   "metadata": {},
   "outputs": [
    {
     "data": {
      "text/plain": [
       "9"
      ]
     },
     "execution_count": 30,
     "metadata": {},
     "output_type": "execute_result"
    }
   ],
   "source": [
    "quicksort(arr,0,n-1)\n",
    "binary_search(arr,0,len(arr)-1,88)"
   ]
  },
  {
   "cell_type": "markdown",
   "metadata": {},
   "source": [
    "### Ternary Search"
   ]
  },
  {
   "cell_type": "code",
   "execution_count": 23,
   "metadata": {},
   "outputs": [],
   "source": [
    "'''time complexity O(log3N)'''\n",
    "def ternary_search(array,l,r,key):\n",
    "    if(r>=l):\n",
    "        middle_1=l+(r-l)//3\n",
    "        middle_2=r-(r-l)//3\n",
    "        \n",
    "        if(array[middle_1]==key):\n",
    "            return middle_1\n",
    "        if(array[middle_2]==key):\n",
    "            return middle_2\n",
    "\n",
    "        if(key<array[middle_1]):\n",
    "            return ternary_search(array,l,middle_1-1,key)\n",
    "        elif(key>array[middle_2]):\n",
    "            return ternary_search(array,middle_2+1,r,key)\n",
    "        else:\n",
    "            return ternary_search(array,middle_1+1,middle_2-1,key)\n",
    "    else:\n",
    "        return -1"
   ]
  },
  {
   "cell_type": "code",
   "execution_count": 33,
   "metadata": {},
   "outputs": [
    {
     "data": {
      "text/plain": [
       "0"
      ]
     },
     "execution_count": 33,
     "metadata": {},
     "output_type": "execute_result"
    }
   ],
   "source": [
    "quicksort(arr,0,n-1)\n",
    "ternary_search(arr,0,len(arr)-1,88)"
   ]
  },
  {
   "cell_type": "markdown",
   "metadata": {},
   "source": [
    "# Greedy Method"
   ]
  },
  {
   "cell_type": "markdown",
   "metadata": {},
   "source": [
    "### Fractional Knapsack"
   ]
  },
  {
   "cell_type": "code",
   "execution_count": 23,
   "metadata": {},
   "outputs": [],
   "source": [
    "def sorting(i):\n",
    "    return i[2]\n",
    "def fractional_knapsack(wt,value,max_wt):\n",
    "    ratio=[x/y for x,y in zip(value,wt)]\n",
    "    k=zip(wt,value,ratio)\n",
    "    k=sorted(k,key=sorting,reverse=True)\n",
    "    length=len(ratio)\n",
    "    filled=0\n",
    "    i=0\n",
    "    profit=0\n",
    "    while(filled<max_wt and i<length):\n",
    "        alloted=max_wt-filled\n",
    "        if(alloted>=k[i][0]):\n",
    "            filled+=k[i][0]\n",
    "            profit+=k[i][1]\n",
    "        else:\n",
    "            filled+=alloted\n",
    "            profit+=(alloted*k[i][2])\n",
    "        i+=1\n",
    "    print(profit)"
   ]
  },
  {
   "cell_type": "code",
   "execution_count": 24,
   "metadata": {},
   "outputs": [
    {
     "name": "stdout",
     "output_type": "stream",
     "text": [
      "240.0\n"
     ]
    }
   ],
   "source": [
    "wt=[10, 40, 20, 30]\n",
    "value=[60, 40, 100, 120]\n",
    "capacity=50\n",
    "fractional_knapsack(wt,value,capacity)"
   ]
  },
  {
   "cell_type": "markdown",
   "metadata": {},
   "source": [
    "### Job Sequencing"
   ]
  },
  {
   "cell_type": "code",
   "execution_count": 23,
   "metadata": {},
   "outputs": [],
   "source": [
    "def sorting(i):\n",
    "    return i[1]\n",
    "def job_sequencing(job,profit,deadline):\n",
    "    seq_array=[0]*max(deadline)\n",
    "    k=zip(job,profit,deadline)\n",
    "    k=sorted(k,key=sorting,reverse=True)\n",
    "    profit_attain=0\n",
    "    for i in range(len(profit)):\n",
    "        dead=k[i][2]-1\n",
    "        while(seq_array[dead]!=0 and dead!=-1):\n",
    "            dead-=1\n",
    "        if(dead!=-1):\n",
    "            seq_array[dead]=1\n",
    "            profit_attain+=k[i][1]\n",
    "        else:\n",
    "            continue      \n",
    "    print(profit_attain)"
   ]
  },
  {
   "cell_type": "code",
   "execution_count": 29,
   "metadata": {},
   "outputs": [
    {
     "name": "stdout",
     "output_type": "stream",
     "text": [
      "75\n"
     ]
    }
   ],
   "source": [
    "job=['a','b','c','d','e','f','g']\n",
    "profit=[35,15,12,5,6,1,2]\n",
    "deadline=[10,4,2,1,4,3,9]\n",
    "job_sequencing(job,profit,deadline)"
   ]
  },
  {
   "cell_type": "markdown",
   "metadata": {},
   "source": [
    "# Data Structure"
   ]
  },
  {
   "cell_type": "markdown",
   "metadata": {},
   "source": [
    "### Queue"
   ]
  },
  {
   "cell_type": "code",
   "execution_count": 4,
   "metadata": {},
   "outputs": [
    {
     "name": "stdout",
     "output_type": "stream",
     "text": [
      "0\n",
      "a\n"
     ]
    }
   ],
   "source": [
    "#Queue\n",
    "\n",
    "'''\n",
    "maxsize – Number of items allowed in the queue.\n",
    "empty() – Return True if the queue is empty, False otherwise.\n",
    "full() – Return True if there are maxsize items in the queue. If the queue was initialized with maxsize=0 (the default), then full() never returns True.\n",
    "get() – Remove and return an item from the queue. If queue is empty, wait until an item is available.\n",
    "get_nowait() – Return an item if one is immediately available, else raise QueueEmpty.\n",
    "put(item) – Put an item into the queue. If the queue is full, wait until a free slot is available before adding the item.\n",
    "put_nowait(item) – Put an item into the queue without blocking.\n",
    "qsize() – Return the number of items in the queue. If no free slot is immediately available, raise QueueFull.\n",
    "\n",
    "'''\n",
    "from queue import Queue\n",
    "\n",
    "queue=Queue(maxsize=3)\n",
    "print(queue.qsize())\n",
    "\n",
    "queue.put('a')\n",
    "queue.put('b')\n",
    "queue.put('c')\n",
    "\n",
    "print(queue.get())"
   ]
  },
  {
   "cell_type": "markdown",
   "metadata": {},
   "source": [
    "### Stack"
   ]
  },
  {
   "cell_type": "code",
   "execution_count": 6,
   "metadata": {},
   "outputs": [
    {
     "name": "stdout",
     "output_type": "stream",
     "text": [
      "c\n"
     ]
    }
   ],
   "source": [
    "#Stack\n",
    "\n",
    "'''\n",
    "maxsize – Number of items allowed in the queue.\n",
    "empty() – Return True if the queue is empty, False otherwise.\n",
    "full() – Return True if there are maxsize items in the queue. If the queue was initialized with maxsize=0 (the default), then full() never returns True.\n",
    "get() – Remove and return an item from the queue. If queue is empty, wait until an item is available.\n",
    "get_nowait() – Return an item if one is immediately available, else raise QueueEmpty.\n",
    "put(item) – Put an item into the queue. If the queue is full, wait until a free slot is available before adding the item.\n",
    "put_nowait(item) – Put an item into the queue without blocking.\n",
    "qsize() – Return the number of items in the queue. If no free slot is immediately available, raise QueueFull.\n",
    "'''\n",
    "\n",
    "from queue import LifoQueue\n",
    "\n",
    "stack=LifoQueue(maxsize=3)\n",
    "\n",
    "stack.put('a')\n",
    "stack.put('b')\n",
    "stack.put('c')\n",
    "\n",
    "print(stack.get())"
   ]
  },
  {
   "cell_type": "markdown",
   "metadata": {},
   "source": [
    "### Hash Table"
   ]
  },
  {
   "cell_type": "code",
   "execution_count": 8,
   "metadata": {},
   "outputs": [
    {
     "name": "stdout",
     "output_type": "stream",
     "text": [
      "3\n"
     ]
    }
   ],
   "source": [
    "#Hash table\n",
    "\n",
    "'''\n",
    "In Python, the Dictionary data types represent the implementation of hash tables.\n",
    "The Keys in the dictionary satisfy the following requirements.\n",
    "\n",
    "Hashing is a function to create key\n",
    "'''\n",
    "hash_table = {'a':3,'b':4}\n",
    "print(hash_table['a'])"
   ]
  },
  {
   "cell_type": "markdown",
   "metadata": {},
   "source": [
    "### Linked List"
   ]
  },
  {
   "cell_type": "code",
   "execution_count": 1,
   "metadata": {},
   "outputs": [
    {
     "name": "stdout",
     "output_type": "stream",
     "text": [
      "6 7 8 9 7 10 11 "
     ]
    }
   ],
   "source": [
    "#Linked List\n",
    "\n",
    "class Node:\n",
    "    def __init__(self,data):\n",
    "        self.next=None\n",
    "        self.data=data\n",
    "\n",
    "class Linkedlist:\n",
    "    def __init__(self,data):\n",
    "        self.head=data\n",
    "    \n",
    "    def insert(self,node):\n",
    "        temp=self.head\n",
    "        for i in node:\n",
    "            while(temp.next!=None):\n",
    "                temp=temp.next\n",
    "            temp.next=i\n",
    "            \n",
    "    def printLinkedList(self):\n",
    "        temp=self.head\n",
    "        while(temp):\n",
    "            print(temp.data,end=' ')\n",
    "            temp=temp.next\n",
    "            \n",
    "            \n",
    "            \n",
    "linked_list=Linkedlist(Node(6))\n",
    "array=[7,8,9,7,10,11]\n",
    "datas=[Node(i) for i in array]\n",
    "linked_list.insert([i for i in datas])\n",
    "linked_list.printLinkedList()"
   ]
  },
  {
   "cell_type": "markdown",
   "metadata": {},
   "source": [
    "### Binary Tree"
   ]
  },
  {
   "cell_type": "code",
   "execution_count": 6,
   "metadata": {},
   "outputs": [
    {
     "name": "stdout",
     "output_type": "stream",
     "text": [
      "1 2 3 4 8 36 77 \n",
      "36 4 77 1 8 2 3 "
     ]
    }
   ],
   "source": [
    "#Binary Tree\n",
    "\n",
    "class Node:\n",
    "    def __init__(self,data):\n",
    "        self.data=data\n",
    "        self.left=None\n",
    "        self.right=None\n",
    "        \n",
    "    def insert(self,data):\n",
    "        if self.data:\n",
    "            if data<self.data:\n",
    "                if self.left is None:\n",
    "                    self.left=Node(data)\n",
    "                else:\n",
    "                    self.left.insert(data)\n",
    "            elif data>self.data:\n",
    "                if self.right is None:\n",
    "                    self.right=Node(data)\n",
    "                else:\n",
    "                    self.right.insert(data)\n",
    "        else:\n",
    "            self.data=data\n",
    "        \n",
    "    def DFS(self):\n",
    "        if self.left:\n",
    "            self.left.DFS()\n",
    "        print(self.data,end=' ')\n",
    "        if self.right:\n",
    "            self.right.DFS()\n",
    "    \n",
    "    def BFS(self):\n",
    "        queue=[]\n",
    "        queue.append(self)\n",
    "        while(queue):\n",
    "            s=queue.pop(0)\n",
    "            print(s.data,end=' ')\n",
    "            if(s.left):\n",
    "                queue.append(s.left)\n",
    "            if(s.right):\n",
    "                queue.append(s.right)\n",
    "    \n",
    "array=[4,77,8,1,2,3]\n",
    "root=Node(36)\n",
    "for i in array:\n",
    "    root.insert(i)\n",
    "root.DFS()\n",
    "print()\n",
    "root.BFS()"
   ]
  },
  {
   "cell_type": "markdown",
   "metadata": {},
   "source": [
    "### Graph - Adjacency"
   ]
  },
  {
   "cell_type": "code",
   "execution_count": 83,
   "metadata": {},
   "outputs": [
    {
     "name": "stdout",
     "output_type": "stream",
     "text": [
      "[[0, 6, 11, 0, 0, 0], [0, 0, 0, 0, 0, 0], [0, 0, 0, 12, 0, 0], [0, 0, 0, 0, 0, 0], [0, 0, 0, 0, 0, 0], [0, 0, 0, 0, 0, 0]]\n",
      "{'A': 0, 'B': 1, 'C': 2, 'E': 3}\n"
     ]
    }
   ],
   "source": [
    "from collections import defaultdict\n",
    "class Graph:\n",
    "    def __init__(self,size):\n",
    "        self.adjacency_matrix=[[0 for i in range(size)] for j in range(size)]\n",
    "        self.vertex={}\n",
    "        self.index=0\n",
    "    \n",
    "    def add_vertex(self,name):\n",
    "        if(name not in self.vertex):\n",
    "            self.vertex[name]=self.index\n",
    "            self.index+=1\n",
    "        \n",
    "    def return_index(self,name):\n",
    "        return self.vertex[name]\n",
    "    \n",
    "    def return_dict(self):\n",
    "        return self.vertex\n",
    "\n",
    "    def add_weight(self,vertex_1,vertex_2,weight):\n",
    "        self.add_vertex(vertex_1)\n",
    "        self.add_vertex(vertex_2)\n",
    "        self.adjacency_matrix[self.return_index(vertex_1)][self.return_index(vertex_2)]=weight\n",
    "        \n",
    "    def print_matrix(self):\n",
    "        print(self.adjacency_matrix)\n",
    "    \n",
    "g=Graph(6)\n",
    "#for i in ['A','B','C','D','E','F']:\n",
    "#    g.add_vertex(i)\n",
    "g.add_weight('A','B',6)\n",
    "g.add_weight('C','E',12)\n",
    "g.add_weight('A','C',11)\n",
    "g.print_matrix()\n",
    "print(g.return_dict())"
   ]
  },
  {
   "cell_type": "code",
   "execution_count": 31,
   "metadata": {},
   "outputs": [
    {
     "name": "stdout",
     "output_type": "stream",
     "text": [
      "[[0, 2, 3, 0, 0, 0], [2, 0, 0, 6, 5, 0], [3, 0, 0, 7, 0, 0], [0, 6, 7, 0, 0, 1], [0, 5, 0, 0, 0, 3], [0, 0, 0, 1, 3, 0]]\n"
     ]
    }
   ],
   "source": [
    "class Graph:\n",
    "    def __init__(self,vertex,size):\n",
    "        self.matrix=[[0 for i in range(size)] for j in range(size)]\n",
    "        self.vertex=vertex\n",
    "        \n",
    "        \n",
    "    def return_index(self,name):\n",
    "        return self.vertex.index(name)\n",
    "    \n",
    "    def return_list(self):\n",
    "        return self.vertex\n",
    "\n",
    "    def add_weight(self,array):\n",
    "        for i in array:\n",
    "            x=self.return_index(i[0])\n",
    "            y=self.return_index(i[1])\n",
    "            weight=int(i[2])\n",
    "            self.matrix[x][y]=weight\n",
    "            self.matrix[y][x]=weight\n",
    "        \n",
    "    def print_matrix(self):\n",
    "        print(self.matrix)\n",
    "\n",
    "N=7\n",
    "list_data=['A','C','B','D','E','F']\n",
    "array=[['A','C',2],\n",
    "['A','B',3],\n",
    "['B','D',7],\n",
    "['C','E',5],\n",
    "['C','D',6],\n",
    "['D','F',1],\n",
    "['E','F',3]]\n",
    "'''for i in range(N):\n",
    "    input_value=input().split()\n",
    "   try:\n",
    "       list_data.index(input_value[0])\n",
    "    except:\n",
    "        list_data.append(input_value[0])\n",
    "    try:\n",
    "        list_data.index(input_value[1])\n",
    "    except:\n",
    "        list_data.append(input_value[1])\n",
    "    array.append(input_value)'''\n",
    "g=Graph(list_data,len(list_data))\n",
    "g.add_weight(array)\n",
    "g.print_matrix()"
   ]
  },
  {
   "cell_type": "code",
   "execution_count": 27,
   "metadata": {},
   "outputs": [
    {
     "name": "stdout",
     "output_type": "stream",
     "text": [
      "7\n",
      "A C 2\n",
      "A B 3\n",
      "B D 7\n",
      "C E 5\n",
      "C D 6\n",
      "D F 1\n",
      "E F 3\n",
      "[[0, 2, 3, 0, 0, 0], [2, 0, 0, 6, 5, 0], [3, 0, 0, 7, 0, 0], [0, 6, 7, 0, 0, 1], [0, 5, 0, 0, 0, 3], [0, 0, 0, 1, 3, 0]]\n"
     ]
    }
   ],
   "source": [
    "N=int(input())\n",
    "list_data=[]\n",
    "array=[]\n",
    "for i in range(N):\n",
    "    input_value=input().split()\n",
    "    try:\n",
    "        list_data.index(input_value[0])\n",
    "    except:\n",
    "        list_data.append(input_value[0])\n",
    "    try:\n",
    "        list_data.index(input_value[1])\n",
    "    except:\n",
    "        list_data.append(input_value[1])\n",
    "    array.append(input_value)\n",
    "g=Graph(list_data,len(list_data))\n",
    "g.add_weight(array)\n",
    "g.print_matrix()"
   ]
  },
  {
   "cell_type": "code",
   "execution_count": null,
   "metadata": {},
   "outputs": [],
   "source": []
  }
 ],
 "metadata": {
  "kernelspec": {
   "display_name": "Python 3",
   "language": "python",
   "name": "python3"
  },
  "language_info": {
   "codemirror_mode": {
    "name": "ipython",
    "version": 3
   },
   "file_extension": ".py",
   "mimetype": "text/x-python",
   "name": "python",
   "nbconvert_exporter": "python",
   "pygments_lexer": "ipython3",
   "version": "3.6.10"
  }
 },
 "nbformat": 4,
 "nbformat_minor": 4
}
