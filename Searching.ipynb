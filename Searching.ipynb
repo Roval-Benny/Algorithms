{
 "cells": [
  {
   "cell_type": "markdown",
   "metadata": {},
   "source": [
    "# Searching"
   ]
  },
  {
   "cell_type": "code",
   "execution_count": 5,
   "metadata": {
    "scrolled": true
   },
   "outputs": [
    {
     "name": "stdout",
     "output_type": "stream",
     "text": [
      "10\n",
      "25 4 8 44 88 11 42 16 80 55\n"
     ]
    }
   ],
   "source": [
    "n=int(input())\n",
    "arr=list(map(int,input().split()))"
   ]
  },
  {
   "cell_type": "code",
   "execution_count": 6,
   "metadata": {},
   "outputs": [],
   "source": [
    "arr=[25,4,8,44,88,11,42,16,80,55]"
   ]
  },
  {
   "cell_type": "code",
   "execution_count": 7,
   "metadata": {},
   "outputs": [],
   "source": [
    "n=10"
   ]
  },
  {
   "cell_type": "markdown",
   "metadata": {},
   "source": [
    "### Binary Search"
   ]
  },
  {
   "cell_type": "code",
   "execution_count": 18,
   "metadata": {},
   "outputs": [],
   "source": [
    "#time complexity O(log2N)\n",
    "#Please Add QuickSort\n",
    "def binary_search(array,l,r,key):\n",
    "    if(r>=l):\n",
    "        middle=(l+r)//2\n",
    "        if(array[middle]==key):\n",
    "            return middle\n",
    "        elif(array[middle]<key):\n",
    "            return binary_search(array,middle+1,r,key)\n",
    "        else:\n",
    "            return binary_search(array,l,middle-1,key)\n",
    "    else:\n",
    "        return -1"
   ]
  },
  {
   "cell_type": "code",
   "execution_count": 30,
   "metadata": {},
   "outputs": [
    {
     "data": {
      "text/plain": [
       "9"
      ]
     },
     "execution_count": 30,
     "metadata": {},
     "output_type": "execute_result"
    }
   ],
   "source": [
    "quicksort(arr,0,n-1)\n",
    "binary_search(arr,0,len(arr)-1,88)"
   ]
  },
  {
   "cell_type": "markdown",
   "metadata": {},
   "source": [
    "### Ternary Search"
   ]
  },
  {
   "cell_type": "code",
   "execution_count": 23,
   "metadata": {},
   "outputs": [],
   "source": [
    "#time complexity O(log3N)\n",
    "#Please Add QuickSort\n",
    "def ternary_search(array,l,r,key):\n",
    "    if(r>=l):\n",
    "        middle_1=l+(r-l)//3\n",
    "        middle_2=r-(r-l)//3\n",
    "        \n",
    "        if(array[middle_1]==key):\n",
    "            return middle_1\n",
    "        if(array[middle_2]==key):\n",
    "            return middle_2\n",
    "\n",
    "        if(key<array[middle_1]):\n",
    "            return ternary_search(array,l,middle_1-1,key)\n",
    "        elif(key>array[middle_2]):\n",
    "            return ternary_search(array,middle_2+1,r,key)\n",
    "        else:\n",
    "            return ternary_search(array,middle_1+1,middle_2-1,key)\n",
    "    else:\n",
    "        return -1"
   ]
  },
  {
   "cell_type": "code",
   "execution_count": 33,
   "metadata": {},
   "outputs": [
    {
     "data": {
      "text/plain": [
       "0"
      ]
     },
     "execution_count": 33,
     "metadata": {},
     "output_type": "execute_result"
    }
   ],
   "source": [
    "quicksort(arr,0,n-1)\n",
    "ternary_search(arr,0,len(arr)-1,88)"
   ]
  }
 ],
 "metadata": {
  "kernelspec": {
   "display_name": "Python 3",
   "language": "python",
   "name": "python3"
  },
  "language_info": {
   "codemirror_mode": {
    "name": "ipython",
    "version": 3
   },
   "file_extension": ".py",
   "mimetype": "text/x-python",
   "name": "python",
   "nbconvert_exporter": "python",
   "pygments_lexer": "ipython3",
   "version": "3.6.10"
  }
 },
 "nbformat": 4,
 "nbformat_minor": 4
}
