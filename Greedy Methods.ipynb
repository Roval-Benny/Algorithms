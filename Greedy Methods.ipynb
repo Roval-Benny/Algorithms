{
 "cells": [
  {
   "cell_type": "markdown",
   "metadata": {},
   "source": [
    "# Greedy Method"
   ]
  },
  {
   "cell_type": "markdown",
   "metadata": {},
   "source": [
    "### Fractional Knapsack"
   ]
  },
  {
   "cell_type": "code",
   "execution_count": 23,
   "metadata": {},
   "outputs": [],
   "source": [
    "def sorting(i):\n",
    "    return i[2]\n",
    "def fractional_knapsack(wt,value,max_wt):\n",
    "    ratio=[x/y for x,y in zip(value,wt)]\n",
    "    k=zip(wt,value,ratio)\n",
    "    k=sorted(k,key=sorting,reverse=True)\n",
    "    length=len(ratio)\n",
    "    filled=0\n",
    "    i=0\n",
    "    profit=0\n",
    "    while(filled<max_wt and i<length):\n",
    "        alloted=max_wt-filled\n",
    "        if(alloted>=k[i][0]):\n",
    "            filled+=k[i][0]\n",
    "            profit+=k[i][1]\n",
    "        else:\n",
    "            filled+=alloted\n",
    "            profit+=(alloted*k[i][2])\n",
    "        i+=1\n",
    "    print(profit)"
   ]
  },
  {
   "cell_type": "code",
   "execution_count": 24,
   "metadata": {},
   "outputs": [
    {
     "name": "stdout",
     "output_type": "stream",
     "text": [
      "240.0\n"
     ]
    }
   ],
   "source": [
    "wt=[10, 40, 20, 30]\n",
    "value=[60, 40, 100, 120]\n",
    "capacity=50\n",
    "fractional_knapsack(wt,value,capacity)"
   ]
  },
  {
   "cell_type": "markdown",
   "metadata": {},
   "source": [
    "### Job Sequencing"
   ]
  },
  {
   "cell_type": "code",
   "execution_count": 23,
   "metadata": {},
   "outputs": [],
   "source": [
    "def sorting(i):\n",
    "    return i[1]\n",
    "def job_sequencing(job,profit,deadline):\n",
    "    seq_array=[0]*max(deadline)\n",
    "    k=zip(job,profit,deadline)\n",
    "    k=sorted(k,key=sorting,reverse=True)\n",
    "    profit_attain=0\n",
    "    for i in range(len(profit)):\n",
    "        dead=k[i][2]-1\n",
    "        while(seq_array[dead]!=0 and dead!=-1):\n",
    "            dead-=1\n",
    "        if(dead!=-1):\n",
    "            seq_array[dead]=1\n",
    "            profit_attain+=k[i][1]\n",
    "        else:\n",
    "            continue      \n",
    "    print(profit_attain)"
   ]
  },
  {
   "cell_type": "code",
   "execution_count": 29,
   "metadata": {},
   "outputs": [
    {
     "name": "stdout",
     "output_type": "stream",
     "text": [
      "75\n"
     ]
    }
   ],
   "source": [
    "job=['a','b','c','d','e','f','g']\n",
    "profit=[35,15,12,5,6,1,2]\n",
    "deadline=[10,4,2,1,4,3,9]\n",
    "job_sequencing(job,profit,deadline)"
   ]
  },
  {
   "cell_type": "markdown",
   "metadata": {},
   "source": [
    "### Dijkstra's Algorithm - Matrix"
   ]
  },
  {
   "cell_type": "code",
   "execution_count": 19,
   "metadata": {},
   "outputs": [
    {
     "name": "stdout",
     "output_type": "stream",
     "text": [
      "9\n",
      "C B 10\n",
      "B D 15\n",
      "D C 11\n",
      "D E 6\n",
      "E F 9\n",
      "F A 14\n",
      "A B 7\n",
      "F C 2\n",
      "A C 9\n",
      "2\n",
      "A E\n",
      "28\n",
      "B C\n",
      "26\n"
     ]
    }
   ],
   "source": [
    "import sys\n",
    "class Graph:\n",
    "    def __init__(self,vertex,size):\n",
    "        self.matrix=[[0 for i in range(size)] for j in range(size)]\n",
    "        self.vertex=vertex\n",
    "        self.size=size\n",
    "        \n",
    "        \n",
    "    def return_index(self,name):\n",
    "        return self.vertex.index(name)\n",
    "    \n",
    "    def return_list(self):\n",
    "        return self.vertex\n",
    "\n",
    "    def add_weight(self,array):\n",
    "        for i in array:\n",
    "            x=self.return_index(i[0])\n",
    "            y=self.return_index(i[1])\n",
    "            weight=int(i[2])\n",
    "            self.matrix[x][y]=weight\n",
    "            #self.matrix[y][x]=weight if undirected graph, remove the hash tag \n",
    "        \n",
    "    def print_matrix(self):\n",
    "        print(self.matrix)\n",
    "        \n",
    "    \n",
    "    def dijkstra(self,start,end):\n",
    "        index=self.return_index(start)\n",
    "        end=self.return_index(end)\n",
    "        if(index==end):\n",
    "            print(0)\n",
    "            return\n",
    "        array=[sys.maxsize]*self.size\n",
    "        fixed=[]\n",
    "        fixed.append(index)\n",
    "        array[index]=0\n",
    "        while(True):\n",
    "            length=array[index]\n",
    "            for i in range(self.size):\n",
    "                if i in fixed:\n",
    "                    continue\n",
    "                min_length=length+self.matrix[index][i]\n",
    "                if(self.matrix[index][i]!=0 and min_length<array[i]):\n",
    "                    array[i]=min_length\n",
    "            index=array.index(min(array[j] for j in range(self.size) if j not in fixed))\n",
    "            if(index in fixed):\n",
    "                min_value=min(array[j] for j in range(self.size) if j not in fixed)\n",
    "                for k in range(self.size):\n",
    "                    if min_value==array[k] and k not in fixed:\n",
    "                        index=k\n",
    "                        break\n",
    "            fixed.append(index)\n",
    "            if(index==end):\n",
    "                print(array[index] if array[index]!=sys.maxsize else -1)\n",
    "                break\n",
    "\n",
    "\n",
    "N=int(input())\n",
    "list_data=[]\n",
    "array=[]\n",
    "for i in range(N):\n",
    "    input_value=input().split()\n",
    "    try:\n",
    "        list_data.index(input_value[0])\n",
    "    except:\n",
    "        list_data.append(input_value[0])\n",
    "    try:\n",
    "        list_data.index(input_value[1])\n",
    "    except:\n",
    "        list_data.append(input_value[1])\n",
    "    array.append(input_value)\n",
    "g=Graph(list_data,len(list_data))\n",
    "g.add_weight(array)\n",
    "K=int(input())\n",
    "for i in range(K):\n",
    "    start,end=input().split()\n",
    "    g.dijkstra(start,end)"
   ]
  },
  {
   "cell_type": "markdown",
   "metadata": {},
   "source": [
    "### Dijkstra's Algorithm - List"
   ]
  },
  {
   "cell_type": "code",
   "execution_count": 39,
   "metadata": {},
   "outputs": [
    {
     "name": "stdout",
     "output_type": "stream",
     "text": [
      "4 4\n",
      "Howrah Trivandram Vashi Mysore\n",
      "Howrah Trivandram 10\n",
      "Howrah Vashi 20\n",
      "Trivandram Mysore 100\n",
      "Mysore Vashi 50\n",
      "6\n",
      "Howrah Trivandram\n",
      "10\n",
      "Howrah Vashi\n",
      "20\n",
      "Howrah Mysore\n",
      "70\n",
      "Trivandram Vashi\n",
      "30\n",
      "Trivandram Mysore\n",
      "80\n",
      "Mysore Vashi\n",
      "50\n"
     ]
    }
   ],
   "source": [
    "import sys\n",
    "class Graph:\n",
    "    def __init__(self,no_vertices):\n",
    "        self.vertices=no_vertices\n",
    "        self.d={}\n",
    "        self.distance=[]\n",
    "        self.graph={}\n",
    "        \n",
    "    def add_vertices(self,vertices):\n",
    "        for i in range(self.vertices):\n",
    "            self.d[vertices[i]] = i + 1\n",
    "        #self.graph = {i + 1: [] for i in range(self.vertices)}\n",
    "        self.distance = [[sys.maxsize] * (self.vertices + 1) for _ in range(self.vertices + 1)]\n",
    "        \n",
    "    def add_edges(self,array,size):\n",
    "        for i in array:\n",
    "            x = self.d[i[0]]\n",
    "            y = self.d[i[1]]\n",
    "            weight=int(i[2])\n",
    "            self.distance[x][y] = weight\n",
    "            #self.distance[y][x] = weight if undirected, remove the hash tag\n",
    "       \n",
    "    def dijkstra(self):\n",
    "        for i in range(self.vertices+1):\n",
    "            self.distance[i][i] = 0\n",
    "        for k in range(1, self.vertices + 1):\n",
    "            for i in range(1, self.vertices + 1):\n",
    "                for j in range(1, self.vertices + 1):\n",
    "                    if self.distance[i][j] > self.distance[i][k] + self.distance[k][j]:\n",
    "                        self.distance[i][j] = self.distance[i][k] + self.distance[k][j]     \n",
    "        \n",
    "    def find_distance(self,i):\n",
    "        x = self.d[i[0]]\n",
    "        y = self.d[i[1]]\n",
    "        print(self.distance[x][y])\n",
    "        \n",
    "N,M=input().split()\n",
    "g=Graph(int(N))\n",
    "vertices=list(input().split())\n",
    "g.add_vertices(vertices)\n",
    "edges=[] \n",
    "for i in range(int(M)):\n",
    "    edges.append(input().split())\n",
    "g.add_edges(edges,int(M))\n",
    "g.dijkstra()\n",
    "K=int(input())\n",
    "for i in range(K):\n",
    "    g.find_distance(input().split())"
   ]
  },
  {
   "cell_type": "markdown",
   "metadata": {},
   "source": [
    "### Minimum Cost Path - Matrix"
   ]
  },
  {
   "cell_type": "code",
   "execution_count": 1,
   "metadata": {},
   "outputs": [
    {
     "name": "stdout",
     "output_type": "stream",
     "text": [
      "9\n"
     ]
    }
   ],
   "source": [
    "#In this movement is only possible in diagonal,right,downwards\n",
    "def minimum_cost_path(matrix,x,y):\n",
    "    minimum_cost_array=[[0 for i in range(y+1)]for j in range(x+1)]\n",
    "    minimum_cost_array[0][0]=matrix[0][0]\n",
    "    if(x==y):\n",
    "        for i in range(1,x+1):\n",
    "            minimum_cost_array[i][0]=minimum_cost_array[i-1][0]+matrix[i][0]\n",
    "            minimum_cost_array[0][i]=minimum_cost_array[0][i-1]+matrix[0][i]\n",
    "    else:\n",
    "        for i in range(1,x+1):\n",
    "            minimum_cost_array[i][0]=minimum_cost_array[i-1][0]+matrix[i][0]\n",
    "        for i in range(1,y+1):\n",
    "            minimum_cost_array[0][i]=minimum_cost_array[0][i-1]+matrix[0][i]\n",
    "            \n",
    "    for i in range(1,x+1):\n",
    "        for j in range(1,y+1):\n",
    "            minimum_cost_array[i][j]=matrix[i][j]+min(minimum_cost_array[i-1][j],minimum_cost_array[i][j-1],minimum_cost_array[i-1][j-1])\n",
    "    print(minimum_cost_array[x][y])\n",
    "    \n",
    "matrix=[[2,3,4],[5,9,8],[7,2,1]]\n",
    "\n",
    "minimum_cost_path(matrix,0,2)"
   ]
  },
  {
   "cell_type": "markdown",
   "metadata": {},
   "source": [
    "### Ford-Fulkerson Algorithm for Max Flow Problem"
   ]
  },
  {
   "cell_type": "code",
   "execution_count": 29,
   "metadata": {},
   "outputs": [],
   "source": [
    "class Graph:\n",
    "    \n",
    "    def __init__(self,vertex,size):\n",
    "        self.matrix=[[0 for i in range(size)] for j in range(size)]\n",
    "        self.vertex=vertex\n",
    "        self.size=size\n",
    "        \n",
    "        \n",
    "    def return_index(self,name):\n",
    "        return self.vertex.index(name)\n",
    "    \n",
    "    def return_list(self):\n",
    "        return self.vertex\n",
    "\n",
    "    def add_weight(self,array):\n",
    "        for i in array:\n",
    "            x=self.return_index(i[0])\n",
    "            y=self.return_index(i[1])\n",
    "            weight=int(i[2])\n",
    "            self.matrix[x][y]=weight\n",
    "            #self.matrix[y][x]=weight if undirected graph, remove the hash tag \n",
    "        \n",
    "    def print_matrix(self):\n",
    "        print(self.matrix)\n",
    " \n",
    "    def BFS(self,source,sink,parent):\n",
    "        visited=[False]*self.size\n",
    "        queue=[]\n",
    "        \n",
    "        queue.append(source)\n",
    "        visited[source]=True\n",
    "        \n",
    "        while(queue):\n",
    "            \n",
    "            u=queue.pop(0)\n",
    "            \n",
    "            for ind,val in enumerate(self.matrix[u]):\n",
    "                if visited[ind]==False and val>0:\n",
    "                    visited[ind]=True\n",
    "                    queue.append(ind)\n",
    "                    parent[ind]=u\n",
    "                    \n",
    "        return True if visited[sink] else False\n",
    "    \n",
    "    def ford_fulkerson(self):\n",
    "        parent=[-1]*self.size\n",
    "        source=self.return_index('S')\n",
    "        sink=self.return_index('T')\n",
    "        max_flow=0\n",
    "        \n",
    "        while self.BFS(source,sink,parent):\n",
    "            \n",
    "            path_flow=float('Inf')\n",
    "            s=sink\n",
    "            \n",
    "            while(s!=source):\n",
    "                path_flow=min(path_flow,self.matrix[parent[s]][s])\n",
    "                s=parent[s]\n",
    "            max_flow+=path_flow\n",
    "            \n",
    "            v=sink\n",
    "            \n",
    "            while(v!=source):\n",
    "                u=parent[v]\n",
    "                self.matrix[u][v]-=path_flow\n",
    "                self.matrix[v][u]+=path_flow\n",
    "                v=parent[v]\n",
    "                \n",
    "        return max_flow"
   ]
  },
  {
   "cell_type": "code",
   "execution_count": 30,
   "metadata": {},
   "outputs": [
    {
     "name": "stdout",
     "output_type": "stream",
     "text": [
      "10\n",
      "S A 8\n",
      "S B 10\n",
      "A B 4\n",
      "A C 8\n",
      "A D 5\n",
      "B D 2\n",
      "B C 5\n",
      "C T 4\n",
      "C D 3\n",
      "D T 12\n",
      "14\n"
     ]
    }
   ],
   "source": [
    "N=int(input())\n",
    "list_data=[]\n",
    "array=[]\n",
    "for i in range(N):\n",
    "    input_value=input().split()\n",
    "    try:\n",
    "        list_data.index(input_value[0])\n",
    "    except:\n",
    "        list_data.append(input_value[0])\n",
    "    try:\n",
    "        list_data.index(input_value[1])\n",
    "    except:\n",
    "        list_data.append(input_value[1])\n",
    "    array.append(input_value)\n",
    "g=Graph(list_data,len(list_data))\n",
    "g.add_weight(array)\n",
    "\n",
    "print(g.ford_fulkerson())"
   ]
  }
 ],
 "metadata": {
  "kernelspec": {
   "display_name": "Python 3",
   "language": "python",
   "name": "python3"
  },
  "language_info": {
   "codemirror_mode": {
    "name": "ipython",
    "version": 3
   },
   "file_extension": ".py",
   "mimetype": "text/x-python",
   "name": "python",
   "nbconvert_exporter": "python",
   "pygments_lexer": "ipython3",
   "version": "3.6.10"
  }
 },
 "nbformat": 4,
 "nbformat_minor": 4
}
