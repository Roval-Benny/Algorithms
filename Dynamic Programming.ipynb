{
 "cells": [
  {
   "cell_type": "markdown",
   "metadata": {},
   "source": [
    "# Dynamic Programming"
   ]
  },
  {
   "cell_type": "markdown",
   "metadata": {},
   "source": [
    "### 0/1 Knapsack Problem"
   ]
  },
  {
   "cell_type": "code",
   "execution_count": 2,
   "metadata": {},
   "outputs": [],
   "source": [
    "def Knapsack(n, capacity, profits, weights):\n",
    "    max_profit = 0\n",
    "    total_profit = sum(profits)\n",
    "    dp_cur = [float('Inf')] * (total_profit + 1)\n",
    "    for i in range(n):\n",
    "        dp_prev = dp_cur\n",
    "        dp_cur = [float('Inf')] * (total_profit + 1)\n",
    "        for profit in range(1, total_profit + 1):\n",
    "            if profits[i] >= profit:\n",
    "                dp_cur[profit] = weights[i] if dp_prev[profit] > weights[i] else dp_prev[profit]\n",
    "            else:\n",
    "                dp_cur[profit] = dp_prev[profit - profits[i]] + weights[i] if dp_prev[profit - profits[i]] + weights[i] < dp_prev[\n",
    "                    profit] else dp_prev[profit]\n",
    "            if dp_cur[profit] <= capacity and profit > max_profit:\n",
    "                max_profit = profit\n",
    "            if dp_cur[profit] > capacity:\n",
    "                break\n",
    "    return max_profit"
   ]
  },
  {
   "cell_type": "code",
   "execution_count": 3,
   "metadata": {},
   "outputs": [
    {
     "name": "stdout",
     "output_type": "stream",
     "text": [
      "5 8\n",
      "0 1 2 5 6\n",
      "0 2 3 4 5\n",
      "8\n"
     ]
    }
   ],
   "source": [
    "if __name__ == '__main__':\n",
    "    N, C = input().split()\n",
    "    profits = list(map(int,input().split()))\n",
    "    weights = list(map(int,input().split()))\n",
    "    print(Knapsack(int(N), int(C), profits, weights))"
   ]
  },
  {
   "cell_type": "markdown",
   "metadata": {},
   "source": [
    "### Coin Change Problem"
   ]
  },
  {
   "cell_type": "code",
   "execution_count": 52,
   "metadata": {},
   "outputs": [],
   "source": [
    "def coin_change(coins,size,max_number):\n",
    "    table=[0 for k in range(max_number+1)]\n",
    "    table[0]=1\n",
    "    \n",
    "    for i in range(0,size):\n",
    "        for j in range(coins[i],max_number+1):\n",
    "            table[j]+=table[j-coins[i]]\n",
    "            \n",
    "    return table[max_number]"
   ]
  },
  {
   "cell_type": "code",
   "execution_count": 53,
   "metadata": {},
   "outputs": [
    {
     "name": "stdout",
     "output_type": "stream",
     "text": [
      "240 23\n",
      "23 20 35 42 19 3 34 9 28 38 13 41 26 14 27 39 24 37 46 29 43 1 21\n",
      "127101770\n"
     ]
    }
   ],
   "source": [
    "if __name__ == '__main__':\n",
    "    N, C = input().split()\n",
    "    coins = list(map(int,input().split()))\n",
    "    print(coin_change(coins,int(C),int(N)))"
   ]
  },
  {
   "cell_type": "markdown",
   "metadata": {},
   "source": [
    "### Minimum Coin Count"
   ]
  },
  {
   "cell_type": "code",
   "execution_count": 56,
   "metadata": {},
   "outputs": [],
   "source": [
    "def coin_find_problem(coins,coin_count,amount,size):\n",
    "    i=size-1\n",
    "    sum=0\n",
    "    count=0\n",
    "    while(True):\n",
    "        if coin_count[i]>0 and (sum+coins[i])<amount+1:\n",
    "            sum+=coins[i]\n",
    "            coin_count[i]-=1\n",
    "            count+=1\n",
    "        else:\n",
    "            i-=1\n",
    "        if sum==amount:\n",
    "            print(count)\n",
    "            break\n",
    "        elif i==0:\n",
    "            print(0)\n",
    "            break"
   ]
  },
  {
   "cell_type": "code",
   "execution_count": 57,
   "metadata": {},
   "outputs": [
    {
     "name": "stdout",
     "output_type": "stream",
     "text": [
      "4\n"
     ]
    }
   ],
   "source": [
    "coins=[1,3,7]\n",
    "count=[999,999,999,999]\n",
    "coin_find_problem(coins,count,24,3)"
   ]
  }
 ],
 "metadata": {
  "kernelspec": {
   "display_name": "Python 3",
   "language": "python",
   "name": "python3"
  },
  "language_info": {
   "codemirror_mode": {
    "name": "ipython",
    "version": 3
   },
   "file_extension": ".py",
   "mimetype": "text/x-python",
   "name": "python",
   "nbconvert_exporter": "python",
   "pygments_lexer": "ipython3",
   "version": "3.6.10"
  }
 },
 "nbformat": 4,
 "nbformat_minor": 4
}
