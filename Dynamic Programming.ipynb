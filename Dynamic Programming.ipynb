{
 "cells": [
  {
   "cell_type": "markdown",
   "metadata": {},
   "source": [
    "# Dynamic Programming"
   ]
  },
  {
   "cell_type": "markdown",
   "metadata": {},
   "source": [
    "### 0/1 Knapsack Problem"
   ]
  },
  {
   "cell_type": "code",
   "execution_count": 2,
   "metadata": {},
   "outputs": [],
   "source": [
    "def Knapsack(n, capacity, profits, weights):\n",
    "    max_profit = 0\n",
    "    total_profit = sum(profits)\n",
    "    dp_cur = [float('Inf')] * (total_profit + 1)\n",
    "    for i in range(n):\n",
    "        dp_prev = dp_cur\n",
    "        dp_cur = [float('Inf')] * (total_profit + 1)\n",
    "        for profit in range(1, total_profit + 1):\n",
    "            if profits[i] >= profit:\n",
    "                dp_cur[profit] = weights[i] if dp_prev[profit] > weights[i] else dp_prev[profit]\n",
    "            else:\n",
    "                dp_cur[profit] = dp_prev[profit - profits[i]] + weights[i] if dp_prev[profit - profits[i]] + weights[i] < dp_prev[\n",
    "                    profit] else dp_prev[profit]\n",
    "            if dp_cur[profit] <= capacity and profit > max_profit:\n",
    "                max_profit = profit\n",
    "            if dp_cur[profit] > capacity:\n",
    "                break\n",
    "    return max_profit"
   ]
  },
  {
   "cell_type": "code",
   "execution_count": 3,
   "metadata": {},
   "outputs": [
    {
     "name": "stdout",
     "output_type": "stream",
     "text": [
      "5 8\n",
      "0 1 2 5 6\n",
      "0 2 3 4 5\n",
      "8\n"
     ]
    }
   ],
   "source": [
    "if __name__ == '__main__':\n",
    "    N, C = input().split()\n",
    "    profits = list(map(int,input().split()))\n",
    "    weights = list(map(int,input().split()))\n",
    "    print(Knapsack(int(N), int(C), profits, weights))"
   ]
  },
  {
   "cell_type": "markdown",
   "metadata": {},
   "source": [
    "### Coin Change Problem With Infinte Coins"
   ]
  },
  {
   "cell_type": "code",
   "execution_count": 52,
   "metadata": {},
   "outputs": [],
   "source": [
    "def coin_change(coins,size,max_number):\n",
    "    table=[0 for k in range(max_number+1)]\n",
    "    table[0]=1\n",
    "    \n",
    "    for i in range(0,size):\n",
    "        for j in range(coins[i],max_number+1):\n",
    "            table[j]+=table[j-coins[i]]\n",
    "            \n",
    "    return table[max_number]"
   ]
  },
  {
   "cell_type": "code",
   "execution_count": 53,
   "metadata": {},
   "outputs": [
    {
     "name": "stdout",
     "output_type": "stream",
     "text": [
      "240 23\n",
      "23 20 35 42 19 3 34 9 28 38 13 41 26 14 27 39 24 37 46 29 43 1 21\n",
      "127101770\n"
     ]
    }
   ],
   "source": [
    "if __name__ == '__main__':\n",
    "    N, C = input().split()\n",
    "    coins = list(map(int,input().split()))\n",
    "    print(coin_change(coins,int(C),int(N)))"
   ]
  },
  {
   "cell_type": "markdown",
   "metadata": {},
   "source": [
    "### Minimum Coin Count"
   ]
  },
  {
   "cell_type": "code",
   "execution_count": 27,
   "metadata": {},
   "outputs": [],
   "source": [
    "def coin_find_problem(coins,coin_count,amount,size):\n",
    "    i=size-1\n",
    "    sum=0\n",
    "    count=0\n",
    "    while(True):\n",
    "        if coin_count[i]>0 and (sum+coins[i])<amount+1:\n",
    "            sum+=coins[i]\n",
    "            coin_count[i]-=1\n",
    "            count+=1\n",
    "        else:\n",
    "            i-=1\n",
    "        if sum==amount:\n",
    "            print(count)\n",
    "            break\n",
    "        elif i==0:\n",
    "            print(0)\n",
    "            break"
   ]
  },
  {
   "cell_type": "code",
   "execution_count": 28,
   "metadata": {},
   "outputs": [
    {
     "name": "stdout",
     "output_type": "stream",
     "text": [
      "4\n"
     ]
    }
   ],
   "source": [
    "coins=[1,3,7]\n",
    "count=[999,999,999,999]\n",
    "coin_find_problem(coins,count,24,3)"
   ]
  },
  {
   "cell_type": "markdown",
   "metadata": {},
   "source": [
    "### Coin Change Problem With Finite Coins"
   ]
  },
  {
   "cell_type": "code",
   "execution_count": 81,
   "metadata": {},
   "outputs": [],
   "source": [
    "def coin_sum(coins,K,C):\n",
    "    dp = [[0 for i in range(K)] for j in range(5)]\n",
    "    dp[0][0] = 1\n",
    "    for i in range(1,5):\n",
    "        for j in range(K):\n",
    "            rem = min(C[i-1],j//coins[i-1])\n",
    "            for k in range(rem+1):\n",
    "                dp[i][j]+=dp[i-1][j-coins[i-1]*k]\n",
    "        \n",
    "    print(dp[4][K-1])"
   ]
  },
  {
   "cell_type": "code",
   "execution_count": 83,
   "metadata": {},
   "outputs": [
    {
     "name": "stdout",
     "output_type": "stream",
     "text": [
      "1\n",
      "12\n",
      "2 2 1 1\n",
      "1 2 5 10\n",
      "2\n"
     ]
    }
   ],
   "source": [
    "T = int(input())\n",
    "for t in range(T):\n",
    "    K = int(input())+1\n",
    "    C = [int(i) for i in input().split()]\n",
    "    coins=[int(i) for i in input().split()]\n",
    "    coin_sum(coins,K,C)"
   ]
  },
  {
   "cell_type": "markdown",
   "metadata": {},
   "source": [
    "### Subset Sum Problem"
   ]
  },
  {
   "cell_type": "code",
   "execution_count": 44,
   "metadata": {},
   "outputs": [],
   "source": [
    "def subset_sum(data_set,total_sum):\n",
    "    size=len(data_set)\n",
    "    subset=[[False for i in range(total_sum+1)]for j in range(size+1)]\n",
    "    \n",
    "    for i in range(size+1):\n",
    "        subset[i][0]=True\n",
    "        \n",
    "    for i in range(1,total_sum+1):\n",
    "        subset[0][i]=False\n",
    "        \n",
    "    for i in range(1,size+1):\n",
    "        for j in range(1,total_sum+1):\n",
    "            if j<data_set[i-1]:\n",
    "                subset[i][j]=subset[i-1][j]\n",
    "            if j>=data_set[i-1]:\n",
    "                subset[i][j]= (subset[i-1][j] or subset[i-1][j-data_set[i-1]])\n",
    "    \n",
    "    return subset[size][total_sum]"
   ]
  },
  {
   "cell_type": "code",
   "execution_count": 49,
   "metadata": {},
   "outputs": [
    {
     "data": {
      "text/plain": [
       "True"
      ]
     },
     "execution_count": 49,
     "metadata": {},
     "output_type": "execute_result"
    }
   ],
   "source": [
    "subset_sum([5, 12, 3, 17, 1, 18, 15, 3 ,17],7)"
   ]
  },
  {
   "cell_type": "markdown",
   "metadata": {},
   "source": [
    "### Find all possible subset of sum k"
   ]
  },
  {
   "cell_type": "code",
   "execution_count": 23,
   "metadata": {},
   "outputs": [
    {
     "name": "stdout",
     "output_type": "stream",
     "text": [
      "6\n",
      "17 18 6 11 2 4\n",
      "6\n",
      "[[2, 4], [6]]\n"
     ]
    }
   ],
   "source": [
    "#This is not a dynamic program\n",
    "def sumSubsets(sets, n, target) : \n",
    "    x = [0]*len(sets) \n",
    "    j = len(sets) - 1 \n",
    "  \n",
    "    while (n > 0) : \n",
    "      \n",
    "        x[j] = n % 2  \n",
    "        n = n // 2 \n",
    "        j -= 1 \n",
    "      \n",
    "    sum = 0 \n",
    "  \n",
    "    for i in range(len(sets)) : \n",
    "        if (x[i] == 1) : \n",
    "            sum += sets[i]  \n",
    "  \n",
    "    if (sum == target) : \n",
    "        k=[]\n",
    "        for i in range(len(sets)) : \n",
    "            if (x[i] == 1) : \n",
    "                k.append(sets[i])\n",
    "        return k\n",
    "def findSubsets(arr, K) : \n",
    "    x = pow(2, len(arr)) \n",
    "    array=[]\n",
    "    for i in range(1, x) : \n",
    "        k=sumSubsets(arr, i, K)\n",
    "        if k is not None:\n",
    "            array.append(k)\n",
    "    print(array)\n",
    "  \n",
    "if __name__ == \"__main__\" :  \n",
    "    N=int(input())\n",
    "    arr = list(map(int,input().split()))  \n",
    "    K = int(input());  \n",
    "    findSubsets(arr, K); "
   ]
  },
  {
   "cell_type": "code",
   "execution_count": null,
   "metadata": {},
   "outputs": [],
   "source": []
  }
 ],
 "metadata": {
  "kernelspec": {
   "display_name": "Python 3",
   "language": "python",
   "name": "python3"
  },
  "language_info": {
   "codemirror_mode": {
    "name": "ipython",
    "version": 3
   },
   "file_extension": ".py",
   "mimetype": "text/x-python",
   "name": "python",
   "nbconvert_exporter": "python",
   "pygments_lexer": "ipython3",
   "version": "3.6.10"
  }
 },
 "nbformat": 4,
 "nbformat_minor": 4
}
