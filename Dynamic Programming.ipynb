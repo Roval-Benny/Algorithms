{
 "cells": [
  {
   "cell_type": "markdown",
   "metadata": {},
   "source": [
    "# Dynamic Programming"
   ]
  },
  {
   "cell_type": "markdown",
   "metadata": {},
   "source": [
    "### 0/1 Knapsack Problem"
   ]
  },
  {
   "cell_type": "code",
   "execution_count": 75,
   "metadata": {},
   "outputs": [],
   "source": [
    "def Knapsack(n, capacity, profits, weights):\n",
    "    max_profit = 0\n",
    "    total_profit = sum(profits)\n",
    "    dp_cur = [float('Inf')] * (total_profit + 1)\n",
    "    for i in range(n):\n",
    "        dp_prev = dp_cur\n",
    "        dp_cur = [float('Inf')] * (total_profit + 1)\n",
    "        for profit in range(1, total_profit + 1):\n",
    "            if profits[i] >= profit:\n",
    "                dp_cur[profit] = weights[i] if dp_prev[profit] > weights[i] else dp_prev[profit]\n",
    "            else:\n",
    "                dp_cur[profit] = dp_prev[profit - profits[i]] + weights[i] if dp_prev[profit - profits[i]] + weights[i] < dp_prev[\n",
    "                    profit] else dp_prev[profit]\n",
    "            if dp_cur[profit] <= capacity and profit > max_profit:\n",
    "                max_profit = profit\n",
    "            if dp_cur[profit] > capacity:\n",
    "                break\n",
    "    return max_profit"
   ]
  },
  {
   "cell_type": "code",
   "execution_count": 76,
   "metadata": {},
   "outputs": [
    {
     "name": "stdout",
     "output_type": "stream",
     "text": [
      "100 10000\n",
      "31 35 20 11 39 42 31 29 28 22 37 2 33 28 41 50 17 2 48 35 39 42 35 41 11 37 10 12 42 33 24 24 27 45 11 38 23 21 18 32 29 47 30 35 6 23 25 13 49 27 48 22 27 36 7 1 4 15 35 27 17 39 7 49 25 23 30 44 23 34 36 8 30 17 17 34 44 22 14 43 12 22 18 2 25 44 16 39 29 28 6 6 43 17 29 6 45 13 25 21\n",
      "42 18 73 59 61 18 85 90 11 47 36 57 64 30 67 25 49 85 60 30 96 55 23 92 94 45 59 39 100 18 67 95 98 88 9 37 15 8 34 68 23 18 12 77 19 27 87 8 36 54 68 85 28 4 97 60 44 19 91 88 45 31 78 16 79 8 34 41 77 53 52 5 43 24 28 100 10 99 66 42 79 37 65 78 28 11 63 85 10 40 32 84 90 66 18 90 32 78 38 87\n",
      "2654\n"
     ]
    }
   ],
   "source": [
    "if __name__ == '__main__':\n",
    "    N, C = input().split()\n",
    "    profits = list(map(int,input().split()))\n",
    "    weights = list(map(int,input().split()))\n",
    "    print(Knapsack(int(N), int(C), profits, weights))"
   ]
  }
 ],
 "metadata": {
  "kernelspec": {
   "display_name": "Python 3",
   "language": "python",
   "name": "python3"
  },
  "language_info": {
   "codemirror_mode": {
    "name": "ipython",
    "version": 3
   },
   "file_extension": ".py",
   "mimetype": "text/x-python",
   "name": "python",
   "nbconvert_exporter": "python",
   "pygments_lexer": "ipython3",
   "version": "3.6.10"
  }
 },
 "nbformat": 4,
 "nbformat_minor": 4
}
